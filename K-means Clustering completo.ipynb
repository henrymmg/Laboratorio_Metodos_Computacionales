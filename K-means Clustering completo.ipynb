{
 "metadata": {
  "name": ""
 },
 "nbformat": 3,
 "nbformat_minor": 0,
 "worksheets": [
  {
   "cells": [
    {
     "cell_type": "code",
     "collapsed": false,
     "input": [
      "%pylab inline"
     ],
     "language": "python",
     "metadata": {},
     "outputs": [
      {
       "output_type": "stream",
       "stream": "stdout",
       "text": [
        "Populating the interactive namespace from numpy and matplotlib\n"
       ]
      }
     ],
     "prompt_number": 24
    },
    {
     "cell_type": "code",
     "collapsed": false,
     "input": [
      "#Importaci\u00f3n del archivo y definici\u00f3n de su forma\n",
      "data=loadtxt('data1.dat')\n",
      "shp=shape(data)\n",
      "N=shp[0]\n",
      "coor=shp[1]\n",
      "scatter(data[:,0],data[:,1])\n",
      "#Se define el n\u00famero de clusters como el n\u00famero de variables del archivo de entrada\n",
      "numero_clusters=coor"
     ],
     "language": "python",
     "metadata": {},
     "outputs": [
      {
       "metadata": {},
       "output_type": "display_data",
       "png": "[encoded data removed]",
       "text": [
        "<matplotlib.figure.Figure at 0x3e6bc90>"
       ]
      }
     ],
     "prompt_number": 25
    },
    {
     "cell_type": "code",
     "collapsed": false,
     "input": [
      "#Definicion de rangos de n\u00fameros aleatorios primera iteraci\u00f3n\n",
      "minimos=zeros(coor)\n",
      "maximos=zeros(coor)\n",
      "for i in range(coor):\n",
      "    minimos[i]=min(data[:,i])\n",
      "    maximos[i]=max(data[:,i])\n",
      "print minimos\n",
      "print maximos"
     ],
     "language": "python",
     "metadata": {},
     "outputs": [
      {
       "output_type": "stream",
       "stream": "stdout",
       "text": [
        "[-0.53338259  0.21671706]\n",
        "[ 10.86448153  13.21317045]\n"
       ]
      }
     ],
     "prompt_number": 26
    },
    {
     "cell_type": "code",
     "collapsed": false,
     "input": [
      "#Definici\u00f3n de centros aleatorios en la primera iteraci\u00f3n\n",
      "centros=zeros((numero_clusters,coor))\n",
      "centros_nuevos=zeros((numero_clusters,coor))\n",
      "c=zeros((numero_clusters,coor))\n",
      "condicion=0\n",
      "\n",
      "for i in range(numero_clusters):\n",
      "    for j in range(coor):\n",
      "        centros_nuevos[i,j]=random.randint(minimos[j], maximos[j], 1)\n",
      "\n",
      "print centros_nuevos[0,:], centros_nuevos[1,:]\n",
      "scatter(centros_nuevos[:,0],centros_nuevos[:,1],c='g')   \n",
      "scatter(data[:,0],data[:,1])"
     ],
     "language": "python",
     "metadata": {},
     "outputs": [
      {
       "output_type": "stream",
       "stream": "stdout",
       "text": [
        "[ 9.  4.] [  3.  11.]\n"
       ]
      },
      {
       "metadata": {},
       "output_type": "pyout",
       "prompt_number": 45,
       "text": [
        "<matplotlib.collections.PathCollection at 0x5fd8910>"
       ]
      },
      {
       "metadata": {},
       "output_type": "display_data",
       "png": "[encoded data removed]",
       "text": [
        "<matplotlib.figure.Figure at 0x5fd8a10>"
       ]
      }
     ],
     "prompt_number": 45
    },
    {
     "cell_type": "code",
     "collapsed": false,
     "input": [
      "while(condicion==0):\n",
      "    centros=centros_nuevos\n",
      "\n",
      "    #Se hallan las distancias de los puntos a cada cluster\n",
      "    distancia_cuadrada=zeros((N,numero_clusters))\n",
      "    for i in range(numero_clusters):\n",
      "        for j in range(N):\n",
      "            for k in range(coor):\n",
      "                distancia_cuadrada[j,i]+=(data[j,k]-centros[i,k])**2\n",
      "    distancia=sqrt(distancia_cuadrada)\n",
      "    \n",
      "    #Se separan los puntos por clusters\n",
      "    clusters=zeros((N,numero_clusters))\n",
      "    for i in range(N):\n",
      "        for j in range(numero_clusters-1):\n",
      "                if(distancia[i,j]<distancia[i,j+1]):\n",
      "                    clusters[i,j]=i+1                    \n",
      "                else:\n",
      "                    clusters[i,j+1]=i+1\n",
      "\n",
      "    #Se genera una matriz que guarda las coordenadas de los puntos en cada cluster\n",
      "    #Las columnas son las coordenadas en cada cluster\n",
      "    cluster_cluster=zeros((N,numero_clusters*coor))\n",
      "    for i in range(1,N+1):\n",
      "        for j in range(1,numero_clusters+1):\n",
      "            if(clusters[(i)-1,(j)-1]!=0):\n",
      "                for k in range(1,coor+1):\n",
      "                    cluster_cluster[(i)-1,(((j*coor)-(coor-k))-1)]=data[(clusters[(i)-1,(j)-1])-1,(k)-1]\n",
      "    \n",
      "    #Se halla el promedio de cada cluster\n",
      "    promedios=zeros((1,numero_clusters*coor))\n",
      "    for i in range(numero_clusters*coor):\n",
      "        divisor=0\n",
      "        for j in range(N):\n",
      "            if(cluster_cluster[j,i]!=0):\n",
      "                promedios[0,i]=promedios[0,i]+cluster_cluster[j,i]\n",
      "                divisor=divisor+1\n",
      "        promedios[0,i]=promedios[0,i]/divisor\n",
      "    #Se reemplazan los centros por los promedios\n",
      "    for i in range(numero_clusters+1):\n",
      "        for j in range(coor+1):\n",
      "            centros_nuevos[i-1,j-1]=promedios[0,((i*coor)-(coor-j))-1]\n",
      "    print centros_nuevos\n",
      "    print centros\n",
      "    \n",
      "    #Se comparan los centros nuevos con los anteriores para saber si cambiaron\n",
      "    #Si cambian se sigue iterando, si no cambian se deja de iterar\n",
      "    for i in range(numero_clusters):\n",
      "        for j in range(coor):\n",
      "            if(centros[i,j]==centros_nuevos[i,j]):\n",
      "                c[i,j]=1\n",
      "            else:\n",
      "                c[i,j]=0\n",
      "    if(sum(c)==numero_clusters*coor):\n",
      "        condicion=1\n",
      "#Se grafican los clusters y los centros finales\n",
      "scatter(cluster_cluster[:,0],cluster_cluster[:,1],c='y')\n",
      "scatter(cluster_cluster[:,2],cluster_cluster[:,3],c='b')\n",
      "scatter(centros_nuevos[:,0],centros_nuevos[:,1],c='r')   "
     ],
     "language": "python",
     "metadata": {},
     "outputs": [
      {
       "metadata": {},
       "output_type": "pyout",
       "prompt_number": 63,
       "text": [
        "<matplotlib.collections.PathCollection at 0x7cc4790>"
       ]
      },
      {
       "metadata": {},
       "output_type": "display_data",
       "png": "[encoded data removed]",
       "text": [
        "<matplotlib.figure.Figure at 0x7cb0610>"
       ]
      }
     ],
     "prompt_number": 63
    },
    {
     "cell_type": "code",
     "collapsed": false,
     "input": [],
     "language": "python",
     "metadata": {},
     "outputs": []
    }
   ],
   "metadata": {}
  }
 ]
}