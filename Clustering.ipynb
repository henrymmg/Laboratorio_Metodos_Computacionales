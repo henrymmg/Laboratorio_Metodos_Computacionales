{
 "metadata": {
  "name": ""
 },
 "nbformat": 3,
 "nbformat_minor": 0,
 "worksheets": [
  {
   "cells": [
    {
     "cell_type": "code",
     "collapsed": false,
     "input": [
      "%pylab inline"
     ],
     "language": "python",
     "metadata": {},
     "outputs": [
      {
       "output_type": "stream",
       "stream": "stdout",
       "text": [
        "Populating the interactive namespace from numpy and matplotlib\n"
       ]
      }
     ],
     "prompt_number": 61
    },
    {
     "cell_type": "code",
     "collapsed": false,
     "input": [
      "data=loadtxt('data1.dat')\n",
      "shp=shape(data)\n",
      "N=shp[0]\n",
      "coor=shp[1]\n",
      "n_clusters=2\n",
      "#Definicion de rangos\n",
      "min_x=min(data[:,0])\n",
      "max_x=max(data[:,0])\n",
      "min_y=min(data[:,1])\n",
      "max_y=max(data[:,1])\n",
      "#Definici\u00f3n de centros\n",
      "centro1_x=random.randint(min_x, max_x, 1)\n",
      "centro1_y=random.randint(min_y, max_y, 1)\n",
      "centro2_x=random.randint(min_x, max_x, 1)\n",
      "centro2_y=random.randint(min_y, max_y, 1)\n",
      "centro1=[centro1_x, centro1_y]\n",
      "centro2=[centro2_x, centro2_y]\n",
      "#Muestra los centros aleatorios\n",
      "scatter(centro1_x,centro1_y)\n",
      "scatter(centro2_x,centro2_y)"
     ],
     "language": "python",
     "metadata": {},
     "outputs": [
      {
       "metadata": {},
       "output_type": "pyout",
       "prompt_number": 62,
       "text": [
        "<matplotlib.collections.PathCollection at 0x523a550>"
       ]
      },
      {
       "metadata": {},
       "output_type": "display_data",
       "png": "[encoded data removed]",
       "text": [
        "<matplotlib.figure.Figure at 0x523a110>"
       ]
      }
     ],
     "prompt_number": 62
    },
    {
     "cell_type": "code",
     "collapsed": false,
     "input": [
      "distanciaC1_x=zeros(N)\n",
      "distanciaC1_y=zeros(N)\n",
      "distanciaC2_x=zeros(N)\n",
      "distanciaC2_y=zeros(N)\n",
      "distanciaC1=zeros(N)\n",
      "distanciaC2=zeros(N)\n",
      "cluster1=zeros([N,coor])\n",
      "cluster2=zeros([N,coor])\n",
      "n=0\n",
      "\n",
      "for i in range(N):\n",
      "    distanciaC1_x[i]=data[i,0]-centro1[0]\n",
      "    distanciaC1_y[i]=data[i,1]-centro1[1]\n",
      "    distanciaC2_x[i]=data[i,0]-centro2[0]\n",
      "    distanciaC2_x[i]=data[i,1]-centro2[1]\n",
      "    distanciaC1[i]=sqrt((distanciaC1_x[i]**2)+(distanciaC1_y[i]**2))\n",
      "    distanciaC2[i]=sqrt((distanciaC2_x[i]**2)+(distanciaC2_y[i]**2))\n",
      "        \n",
      "    if(distanciaC1[i]<distanciaC2[i]):\n",
      "        cluster1[i,0]=data[i,0]\n",
      "        cluster1[i,1]=data[i,1]\n",
      "    else:\n",
      "        cluster2[i,0]=data[i,0]\n",
      "        cluster2[i,1]=data[i,1]\n",
      "       \n",
      "            \n",
      "scatter(cluster1[:,0],cluster1[:,1],color='red')\n",
      "scatter(cluster2[:,0],cluster2[:,1],color='blue')\n",
      "        "
     ],
     "language": "python",
     "metadata": {},
     "outputs": [
      {
       "metadata": {},
       "output_type": "pyout",
       "prompt_number": 63,
       "text": [
        "<matplotlib.collections.PathCollection at 0x5717b90>"
       ]
      },
      {
       "metadata": {},
       "output_type": "display_data",
       "png": "[encoded data removed]",
       "text": [
        "<matplotlib.figure.Figure at 0x5717b50>"
       ]
      }
     ],
     "prompt_number": 63
    },
    {
     "cell_type": "code",
     "collapsed": false,
     "input": [],
     "language": "python",
     "metadata": {},
     "outputs": [],
     "prompt_number": 54
    },
    {
     "cell_type": "code",
     "collapsed": false,
     "input": [],
     "language": "python",
     "metadata": {},
     "outputs": [],
     "prompt_number": 51
    },
    {
     "cell_type": "code",
     "collapsed": false,
     "input": [],
     "language": "python",
     "metadata": {},
     "outputs": []
    }
   ],
   "metadata": {}
  }
 ]
}