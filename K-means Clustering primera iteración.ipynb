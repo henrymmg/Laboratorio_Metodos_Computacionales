{
 "metadata": {
  "name": ""
 },
 "nbformat": 3,
 "nbformat_minor": 0,
 "worksheets": [
  {
   "cells": [
    {
     "cell_type": "code",
     "collapsed": false,
     "input": [
      "%pylab inline"
     ],
     "language": "python",
     "metadata": {},
     "outputs": [
      {
       "output_type": "stream",
       "stream": "stdout",
       "text": [
        "Populating the interactive namespace from numpy and matplotlib\n"
       ]
      }
     ],
     "prompt_number": 10
    },
    {
     "cell_type": "code",
     "collapsed": false,
     "input": [
      "#Importaci\u00f3n del archivo y definici\u00f3n de su forma\n",
      "data=loadtxt('data1.dat')\n",
      "shp=shape(data)\n",
      "N=shp[0]\n",
      "coor=shp[1]\n",
      "print shp\n",
      "scatter(data[:,0],data[:,1])\n",
      "#Se define el n\u00famero de clusters como el n\u00famero de variables del archivo de entrada\n",
      "numero_clusters=coor\n",
      "data"
     ],
     "language": "python",
     "metadata": {},
     "outputs": [
      {
       "output_type": "stream",
       "stream": "stdout",
       "text": [
        "(20, 2)\n"
       ]
      },
      {
       "metadata": {},
       "output_type": "pyout",
       "prompt_number": 11,
       "text": [
        "array([[  1.30728392,  11.21391315],\n",
        "       [ -0.27155639,  11.54247028],\n",
        "       [ -0.42386486,  13.21317045],\n",
        "       [  1.28722983,  10.48764629],\n",
        "       [ -0.53338259,  10.04564085],\n",
        "       [ -0.12585717,  10.76452804],\n",
        "       [  0.06736538,  10.65611664],\n",
        "       [ -0.39079316,   8.10818124],\n",
        "       [ -0.26153533,  13.19127086],\n",
        "       [  0.72687173,  12.05783933],\n",
        "       [ 10.14571555,   1.18425234],\n",
        "       [  9.21400569,   0.32863743],\n",
        "       [  8.68396009,   2.73302796],\n",
        "       [  9.77689368,   0.21671706],\n",
        "       [ 10.07836241,   3.10693573],\n",
        "       [ 10.86448153,   0.5244432 ],\n",
        "       [  8.84931024,   0.96105481],\n",
        "       [ 10.08831983,   1.87448027],\n",
        "       [  8.02780382,   1.32943945],\n",
        "       [  9.58663322,   1.25171099]])"
       ]
      },
      {
       "metadata": {},
       "output_type": "display_data",
       "png": "[encoded data removed]",
       "text": [
        "<matplotlib.figure.Figure at 0x343eb90>"
       ]
      }
     ],
     "prompt_number": 11
    },
    {
     "cell_type": "code",
     "collapsed": false,
     "input": [
      "#Primera iteraci\u00f3n\n",
      "\n",
      "#Definicion de rangos\n",
      "minimos=zeros(coor)\n",
      "maximos=zeros(coor)\n",
      "for i in range(coor):\n",
      "    minimos[i]=min(data[:,i])\n",
      "    maximos[i]=max(data[:,i])\n",
      "print minimos\n",
      "print maximos"
     ],
     "language": "python",
     "metadata": {},
     "outputs": [
      {
       "output_type": "stream",
       "stream": "stdout",
       "text": [
        "[-0.53338259  0.21671706]\n",
        "[ 10.86448153  13.21317045]\n"
       ]
      }
     ],
     "prompt_number": 12
    },
    {
     "cell_type": "code",
     "collapsed": false,
     "input": [
      "#Definici\u00f3n de centros aleatorios\n",
      "centros=zeros((numero_clusters,coor))\n",
      "for i in range(numero_clusters):\n",
      "    for j in range(coor):\n",
      "        centros[i,j]=random.randint(minimos[j], maximos[j], 1)\n",
      "print centros[0,:], centros[1,:]\n",
      "\n",
      "#Centros iniciales en rojo y puntos de archivo de entrada en azul\n",
      "scatter(centros[:,0],centros[:,1],c='r')   \n",
      "scatter(data[:,0],data[:,1])"
     ],
     "language": "python",
     "metadata": {},
     "outputs": [
      {
       "output_type": "stream",
       "stream": "stdout",
       "text": [
        "[ 0.  8.] [ 7.  7.]\n"
       ]
      },
      {
       "metadata": {},
       "output_type": "pyout",
       "prompt_number": 13,
       "text": [
        "<matplotlib.collections.PathCollection at 0x383b890>"
       ]
      },
      {
       "metadata": {},
       "output_type": "display_data",
       "png": "[encoded data removed]",
       "text": [
        "<matplotlib.figure.Figure at 0x383b450>"
       ]
      }
     ],
     "prompt_number": 13
    },
    {
     "cell_type": "code",
     "collapsed": false,
     "input": [
      "#Se hallan las distancias de los puntos a cada cluster\n",
      "distancia_cuadrada=zeros((N,numero_clusters))\n",
      "for i in range(numero_clusters):\n",
      "    for j in range(N):\n",
      "        for k in range(coor):\n",
      "            distancia_cuadrada[j,i]+=(data[j,k]-centros[i,k])**2\n",
      "distancia=sqrt(distancia_cuadrada)"
     ],
     "language": "python",
     "metadata": {},
     "outputs": [],
     "prompt_number": 14
    },
    {
     "cell_type": "code",
     "collapsed": false,
     "input": [
      "#Se separan los puntos por clusters\n",
      "clusters=zeros((N,numero_clusters))\n",
      "for i in range(N):\n",
      "    for j in range(numero_clusters-1):\n",
      "            if(distancia[i,j]<distancia[i,j+1]):\n",
      "                clusters[i,j]=i+1                    \n",
      "            else:\n",
      "                clusters[i,j+1]=i+1\n"
     ],
     "language": "python",
     "metadata": {},
     "outputs": [],
     "prompt_number": 15
    },
    {
     "cell_type": "code",
     "collapsed": false,
     "input": [
      "#Se genera una matriz que guarda las coordenadas de los puntos en cada cluster\n",
      "#Las columnas son las coordenadas en cada cluster\n",
      "cluster_cluster=zeros((N,numero_clusters*coor))\n",
      "for i in range(1,N+1):\n",
      "    for j in range(1,numero_clusters+1):\n",
      "        if(clusters[(i)-1,(j)-1]!=0):\n",
      "            for k in range(1,coor+1):\n",
      "                cluster_cluster[(i)-1,(((j*coor)-(coor-k))-1)]=data[(clusters[(i)-1,(j)-1])-1,(k)-1]\n",
      "        \n",
      "print cluster_cluster"
     ],
     "language": "python",
     "metadata": {},
     "outputs": [
      {
       "output_type": "stream",
       "stream": "stdout",
       "text": [
        "[[  1.30728392  11.21391315   0.           0.        ]\n",
        " [ -0.27155639  11.54247028   0.           0.        ]\n",
        " [ -0.42386486  13.21317045   0.           0.        ]\n",
        " [  1.28722983  10.48764629   0.           0.        ]\n",
        " [ -0.53338259  10.04564085   0.           0.        ]\n",
        " [ -0.12585717  10.76452804   0.           0.        ]\n",
        " [  0.06736538  10.65611664   0.           0.        ]\n",
        " [ -0.39079316   8.10818124   0.           0.        ]\n",
        " [ -0.26153533  13.19127086   0.           0.        ]\n",
        " [  0.72687173  12.05783933   0.           0.        ]\n",
        " [  0.           0.          10.14571555   1.18425234]\n",
        " [  0.           0.           9.21400569   0.32863743]\n",
        " [  0.           0.           8.68396009   2.73302796]\n",
        " [  0.           0.           9.77689368   0.21671706]\n",
        " [  0.           0.          10.07836241   3.10693573]\n",
        " [  0.           0.          10.86448153   0.5244432 ]\n",
        " [  0.           0.           8.84931024   0.96105481]\n",
        " [  0.           0.          10.08831983   1.87448027]\n",
        " [  0.           0.           8.02780382   1.32943945]\n",
        " [  0.           0.           9.58663322   1.25171099]]\n"
       ]
      }
     ],
     "prompt_number": 16
    },
    {
     "cell_type": "code",
     "collapsed": false,
     "input": [
      "#Se cambia el color de cada cluster \n",
      "scatter(cluster_cluster[:,0],cluster_cluster[:,1],c='r')\n",
      "scatter(cluster_cluster[:,2],cluster_cluster[:,3],c='b')"
     ],
     "language": "python",
     "metadata": {},
     "outputs": [
      {
       "metadata": {},
       "output_type": "pyout",
       "prompt_number": 17,
       "text": [
        "<matplotlib.collections.PathCollection at 0x345bd10>"
       ]
      },
      {
       "metadata": {},
       "output_type": "display_data",
       "png": "[encoded data removed]",
       "text": [
        "<matplotlib.figure.Figure at 0x345bbd0>"
       ]
      }
     ],
     "prompt_number": 17
    }
   ],
   "metadata": {}
  }
 ]
}