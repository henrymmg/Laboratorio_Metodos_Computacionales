{
 "metadata": {
  "name": ""
 },
 "nbformat": 3,
 "nbformat_minor": 0,
 "worksheets": [
  {
   "cells": [
    {
     "cell_type": "code",
     "collapsed": false,
     "input": [
      "%pylab inline"
     ],
     "language": "python",
     "metadata": {},
     "outputs": [
      {
       "output_type": "stream",
       "stream": "stdout",
       "text": [
        "Populating the interactive namespace from numpy and matplotlib\n"
       ]
      }
     ],
     "prompt_number": 117
    },
    {
     "cell_type": "code",
     "collapsed": false,
     "input": [
      "#Carga el archivo\n",
      "data=loadtxt('data.dat')\n",
      "#Obtiene la forma del archivo\n",
      "shp=shape(data)\n",
      "#N\u00famero de elementos\n",
      "M=shp[0]\n",
      "#N\u00famero de variables\n",
      "rng=shp[1]\n",
      "#Definici\u00f3n de arreglos para la matriz de covarianza\n",
      "medios = zeros(rng)\n",
      "numerador = zeros(M)\n",
      "matriz_cov = zeros((rng,rng))"
     ],
     "language": "python",
     "metadata": {},
     "outputs": [],
     "prompt_number": 118
    },
    {
     "cell_type": "code",
     "collapsed": false,
     "input": [
      "#Halla el valor medio de cada variable\n",
      "for l in range(rng):\n",
      "    medios[l] = mean(data[:,l])\n",
      "\n",
      "#Halla la matriz de covariaza    \n",
      "for i in range(rng):\n",
      "    for j in range(rng):\n",
      "        for k in range(M):\n",
      "            numerador[k]=(data[k,i]-medios[i])*(data[k,j]-medios[j])\n",
      "            nume_total=sum(numerador)\n",
      "            valor=nume_total/(M-1)\n",
      "            matriz_cov[i,j]=valor\n",
      "print medios\n",
      "print matriz_cov"
     ],
     "language": "python",
     "metadata": {},
     "outputs": [
      {
       "output_type": "stream",
       "stream": "stdout",
       "text": [
        "[ 1.81  1.91]\n",
        "[[ 0.61655556  0.61544444]\n",
        " [ 0.61544444  0.71655556]]\n"
       ]
      }
     ],
     "prompt_number": 119
    },
    {
     "cell_type": "code",
     "collapsed": false,
     "input": [
      "#Autovalores y autovectores correspondientes\n",
      "autovalores, autovectores = linalg.eig(matriz_cov)\n",
      "print autovalores\n",
      "print autovectores[:,0], autovectores[:,1]"
     ],
     "language": "python",
     "metadata": {},
     "outputs": [
      {
       "output_type": "stream",
       "stream": "stdout",
       "text": [
        "[ 0.0490834   1.28402771]\n",
        "[-0.73517866  0.6778734 ] [-0.6778734  -0.73517866]\n"
       ]
      }
     ],
     "prompt_number": 142
    },
    {
     "cell_type": "code",
     "collapsed": false,
     "input": [
      "#Variables para graficar los datos corregidos con los valores medios y los componentes principal y secundario \n",
      "size_autovalores=size(autovalores)\n",
      "\n",
      "x=zeros(size(autovalores)+1)\n",
      "y=zeros(size(autovalores)+1)\n",
      "\n",
      "delta_x=zeros(size_autovalores)\n",
      "delta_y=zeros(size_autovalores)\n",
      "\n",
      "pendiente=zeros(size_autovalores)\n",
      "xx=linspace(-4,4,100)\n",
      "nueva_y=zeros((100,size_autovalores))\n",
      "variable_menos_media=zeros((M,rng))\n",
      "\n",
      "#Componentes principal y secundario\n",
      "for i in range(size_autovalores):\n",
      "    \n",
      "    x[i+1]=autovectores[0,i]\n",
      "    y[i+1]=autovectores[1,i]\n",
      "    \n",
      "    delta_x[i]=x[i+1]-x[0]\n",
      "    delta_y[i]=y[i+1]-y[0]\n",
      "    \n",
      "    pendiente[i]=delta_y[i]/delta_x[i]\n",
      "\n",
      "    for j in range(100):\n",
      "\n",
      "        nueva_y[j,i]=pendiente[i]*xx[j]"
     ],
     "language": "python",
     "metadata": {},
     "outputs": [],
     "prompt_number": 121
    },
    {
     "cell_type": "code",
     "collapsed": false,
     "input": [
      "#Datos corregidos con valores medios\n",
      "for i in range(rng):\n",
      "    for j in range(M):\n",
      "        variable_menos_media[j,i]=data[j,i]-medios[i]"
     ],
     "language": "python",
     "metadata": {},
     "outputs": [],
     "prompt_number": 122
    },
    {
     "cell_type": "code",
     "collapsed": false,
     "input": [
      "#Gr\u00e1ficas\n",
      "plot(nueva_y,xx,'--')\n",
      "scatter(variable_menos_media[:,0],variable_menos_media[:,0])\n",
      "xlabel(\"X-Xmedia\")\n",
      "ylabel(\"Y-Ymedia\")\n",
      "axis([-4,4,-4,4])\n",
      "text(-1.5,3,'$Componente\\ principal (verde)$')\n",
      "text(-1.5,2.5,'$Componente\\ secundario (azul)$')"
     ],
     "language": "python",
     "metadata": {},
     "outputs": [
      {
       "metadata": {},
       "output_type": "pyout",
       "prompt_number": 143,
       "text": [
        "<matplotlib.text.Text at 0x8f79810>"
       ]
      },
      {
       "metadata": {},
       "output_type": "display_data",
       "png": "[encoded data removed]",
       "text": [
        "<matplotlib.figure.Figure at 0x8af98d0>"
       ]
      }
     ],
     "prompt_number": 143
    },
    {
     "cell_type": "code",
     "collapsed": false,
     "input": [],
     "language": "python",
     "metadata": {},
     "outputs": []
    }
   ],
   "metadata": {}
  }
 ]
}